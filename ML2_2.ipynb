{
  "cells": [
    {
      "cell_type": "markdown",
      "metadata": {
        "id": "qDRMhqjC45CC"
      },
      "source": [
        "1. Изучите документацию sklearn, посвященную классу LogisticRegression. Какую еще информацию можно вывести для обученной модели? Попробуйте изменить аргументы при создании модели и посмотрите, как это влияет на качество предсказания."
      ]
    },
    {
      "cell_type": "code",
      "execution_count": null,
      "metadata": {
        "id": "wVsq9inw6sRh"
      },
      "outputs": [],
      "source": [
        "import pandas as pd\n",
        "from sklearn.linear_model import LogisticRegression\n",
        "from sklearn.model_selection import cross_val_score\n",
        "from sklearn.metrics import accuracy_score\n",
        "data = pd.read_csv(\"https://raw.githubusercontent.com/koroteevmv/ML_course/2023/ML2.2%20real%20classification/data/diabetes.csv\")\n",
        "y = data.Outcome\n",
        "X = data.drop([\"Outcome\"], axis=1)\n",
        "data"
      ]
    },
    {
      "cell_type": "code",
      "execution_count": null,
      "metadata": {
        "colab": {
          "base_uri": "https://localhost:8080/"
        },
        "id": "wlXxnFPj4vge",
        "outputId": "ca94429c-48bf-4c3d-d473-18681ac3cbc4"
      },
      "outputs": [
        {
          "name": "stdout",
          "output_type": "stream",
          "text": [
            "Средняя точность модели: 0.7591460826754944\n"
          ]
        }
      ],
      "source": [
        "model = LogisticRegression(penalty='l1', C=0.1, solver='liblinear')\n",
        "scores = cross_val_score(model, X, y, cv=5, scoring='accuracy')\n",
        "print(\"Средняя точность модели:\", scores.mean())\n"
      ]
    },
    {
      "cell_type": "markdown",
      "metadata": {
        "id": "nvDwRAKy7ACX"
      },
      "source": [
        "2. Попробуйте применить к той же задаче другие модели классификации. Для каждой из них выведите матрицу классификации и оценку точности. Рекомендуется исследовать следующие модели:"
      ]
    },
    {
      "cell_type": "code",
      "execution_count": null,
      "metadata": {
        "colab": {
          "base_uri": "https://localhost:8080/"
        },
        "id": "l1HiZ1h57EGJ",
        "outputId": "e226fa03-8617-4bea-efff-f0af5bd493bd"
      },
      "outputs": [
        {
          "name": "stdout",
          "output_type": "stream",
          "text": [
            "Модель: SVM (без ядра)\n",
            "Точность: 0.75\n",
            "Матрица классификации:\n",
            "[[80 19]\n",
            " [19 36]]\n",
            "\n",
            "\n",
            "Модель: SVM (линейное ядро)\n",
            "Точность: 0.75\n",
            "Матрица классификации:\n",
            "[[80 19]\n",
            " [19 36]]\n",
            "\n",
            "\n",
            "Модель: SVM (гауссовское ядро)\n",
            "Точность: 0.77\n",
            "Матрица классификации:\n",
            "[[87 12]\n",
            " [24 31]]\n",
            "\n",
            "\n",
            "Модель: SVM (полиномиальное ядро)\n",
            "Точность: 0.76\n",
            "Матрица классификации:\n",
            "[[87 12]\n",
            " [25 30]]\n",
            "\n",
            "\n"
          ]
        }
      ],
      "source": [
        "from sklearn.model_selection import train_test_split\n",
        "from sklearn.metrics import accuracy_score, confusion_matrix\n",
        "from sklearn.svm import SVC\n",
        "from sklearn.neighbors import KNeighborsClassifier\n",
        "from sklearn.neural_network import MLPClassifier\n",
        "from sklearn.tree import DecisionTreeClassifier\n",
        "from sklearn.naive_bayes import GaussianNB\n",
        "from sklearn.ensemble import RandomForestClassifier\n",
        "from sklearn.ensemble import BaggingClassifier\n",
        "from sklearn.linear_model import PassiveAggressiveClassifier\n",
        "from sklearn.linear_model import RidgeClassifier\n",
        "\n",
        "X_train, X_test, y_train, y_test = train_test_split(X, y, test_size=0.2, random_state=42)\n",
        "models = {\n",
        "    \"SVM (без ядра)\": SVC(kernel='linear'),\n",
        "    \"SVM (линейное ядро)\": SVC(kernel='linear'),\n",
        "    \"SVM (гауссовское ядро)\": SVC(kernel='rbf'),\n",
        "    \"SVM (полиномиальное ядро)\": SVC(kernel='poly'),\n",
        "    \"K-ближайших соседей\": KNeighborsClassifier(),\n",
        "    \"Многослойный перцептрон\": MLPClassifier(),\n",
        "    \"Дерево решений\": DecisionTreeClassifier(),\n",
        "    \"Наивный байесовский классификатор\": GaussianNB(),\n",
        "    \"Пассивно-агрессивный классификатор\": PassiveAggressiveClassifier(),\n",
        "    \"Гребневый классификатор\": RidgeClassifier(),\n",
        "    \"Случайный лес\": RandomForestClassifier(),\n",
        "    \"Беггинг\": BaggingClassifier(),\n",
        "}\n",
        "\n",
        "for name, model in models.items():\n",
        "    model.fit(X_train, y_train)\n",
        "    y_pred = model.predict(X_test)\n",
        "    accuracy = accuracy_score(y_test, y_pred)\n",
        "    confusion = confusion_matrix(y_test, y_pred)\n",
        "    print(f\"Модель: {name}\")\n",
        "    print(f\"Точность: {accuracy:.2f}\")\n",
        "    print(f\"Матрица классификации:\")\n",
        "    print(confusion)\n",
        "    print(\"\\n\")\n"
      ]
    },
    {
      "cell_type": "markdown",
      "metadata": {
        "id": "-ap_J_0c8bD8"
      },
      "source": [
        "3. Напишите функцию, которая автоматически обучает все перечисленные модели и для каждой выдает оценку точности.\n"
      ]
    },
    {
      "cell_type": "code",
      "execution_count": null,
      "metadata": {
        "colab": {
          "base_uri": "https://localhost:8080/"
        },
        "id": "A3cS6mVq8dQS",
        "outputId": "dc99d9d1-bf63-4ade-ef4a-6f8068d9f138"
      },
      "outputs": [
        {
          "name": "stdout",
          "output_type": "stream",
          "text": [
            "Модель: SVM (без ядра), Точность: 0.75\n",
            "Модель: SVM (линейное ядро), Точность: 0.75\n",
            "Модель: SVM (гауссовское ядро), Точность: 0.77\n",
            "Модель: SVM (полиномиальное ядро), Точность: 0.76\n",
            "Модель: K-ближайших соседей, Точность: 0.66\n",
            "Модель: Многослойный перцептрон, Точность: 0.63\n",
            "Модель: Дерево решений, Точность: 0.76\n",
            "Модель: Наивный байесовский классификатор, Точность: 0.77\n",
            "Модель: Пассивно-агрессивный классификатор, Точность: 0.64\n",
            "Модель: Гребневый классификатор, Точность: 0.76\n",
            "Модель: Случайный лес, Точность: 0.77\n",
            "Модель: Беггинг, Точность: 0.73\n"
          ]
        }
      ],
      "source": [
        "from sklearn.model_selection import train_test_split\n",
        "from sklearn.metrics import accuracy_score\n",
        "from sklearn.svm import SVC\n",
        "from sklearn.neighbors import KNeighborsClassifier\n",
        "from sklearn.neural_network import MLPClassifier\n",
        "from sklearn.tree import DecisionTreeClassifier\n",
        "from sklearn.naive_bayes import GaussianNB\n",
        "from sklearn.ensemble import RandomForestClassifier\n",
        "from sklearn.ensemble import BaggingClassifier\n",
        "from sklearn.linear_model import PassiveAggressiveClassifier\n",
        "from sklearn.linear_model import RidgeClassifier\n",
        "\n",
        "def evaluate_classification_models(X, y):\n",
        "    X_train, X_test, y_train, y_test = train_test_split(X, y, test_size=0.2, random_state=42)\n",
        "    models = {\n",
        "        \"SVM (без ядра)\": SVC(kernel='linear'),\n",
        "        \"SVM (линейное ядро)\": SVC(kernel='linear'),\n",
        "        \"SVM (гауссовское ядро)\": SVC(kernel='rbf'),\n",
        "        \"SVM (полиномиальное ядро)\": SVC(kernel='poly'),\n",
        "        \"K-ближайших соседей\": KNeighborsClassifier(),\n",
        "        \"Многослойный перцептрон\": MLPClassifier(),\n",
        "        \"Дерево решений\": DecisionTreeClassifier(),\n",
        "        \"Наивный байесовский классификатор\": GaussianNB(),\n",
        "        \"Пассивно-агрессивный классификатор\": PassiveAggressiveClassifier(),\n",
        "        \"Гребневый классификатор\": RidgeClassifier(),\n",
        "        \"Случайный лес\": RandomForestClassifier(),\n",
        "        \"Беггинг\": BaggingClassifier(),\n",
        "    }\n",
        "\n",
        "    results = {}\n",
        "    for name, model in models.items():\n",
        "        model.fit(X_train, y_train)\n",
        "        y_pred = model.predict(X_test)\n",
        "        accuracy = accuracy_score(y_test, y_pred)\n",
        "        results[name] = accuracy\n",
        "\n",
        "    return results\n",
        "results = evaluate_classification_models(X, y)\n",
        "for model, accuracy in results.items():\n",
        "    print(f\"Модель: {model}, Точность: {accuracy:.2f}\")\n"
      ]
    },
    {
      "cell_type": "markdown",
      "metadata": {
        "id": "LBC06YXz9DDF"
      },
      "source": [
        "4. Повторите полностью анализ для другой задачи - распознавание вида ириса по параметрам растения (можно использовать метод sklearn.datasets.load_iris())."
      ]
    },
    {
      "cell_type": "code",
      "execution_count": null,
      "metadata": {
        "colab": {
          "base_uri": "https://localhost:8080/"
        },
        "id": "hz9F7Mbs9FsS",
        "outputId": "02162281-12ea-4d02-a1f7-e6e7db13ee25"
      },
      "outputs": [
        {
          "name": "stdout",
          "output_type": "stream",
          "text": [
            "Модель: SVM (без ядра), Точность: 1.00\n",
            "Модель: SVM (линейное ядро), Точность: 1.00\n",
            "Модель: SVM (гауссовское ядро), Точность: 1.00\n",
            "Модель: SVM (полиномиальное ядро), Точность: 1.00\n",
            "Модель: K-ближайших соседей, Точность: 1.00\n",
            "Модель: Многослойный перцептрон, Точность: 1.00\n",
            "Модель: Дерево решений, Точность: 1.00\n",
            "Модель: Наивный байесовский классификатор, Точность: 1.00\n",
            "Модель: Пассивно-агрессивный классификатор, Точность: 0.90\n",
            "Модель: Гребневый классификатор, Точность: 0.90\n",
            "Модель: Случайный лес, Точность: 1.00\n",
            "Модель: Беггинг, Точность: 1.00\n"
          ]
        },
        {
          "name": "stderr",
          "output_type": "stream",
          "text": [
            "/usr/local/lib/python3.10/dist-packages/sklearn/neural_network/_multilayer_perceptron.py:686: ConvergenceWarning: Stochastic Optimizer: Maximum iterations (200) reached and the optimization hasn't converged yet.\n",
            "  warnings.warn(\n"
          ]
        }
      ],
      "source": [
        "from sklearn.datasets import load_iris\n",
        "from sklearn.model_selection import train_test_split\n",
        "from sklearn.metrics import accuracy_score, confusion_matrix\n",
        "from sklearn.svm import SVC\n",
        "from sklearn.neighbors import KNeighborsClassifier\n",
        "from sklearn.neural_network import MLPClassifier\n",
        "from sklearn.tree import DecisionTreeClassifier\n",
        "from sklearn.naive_bayes import GaussianNB\n",
        "from sklearn.ensemble import RandomForestClassifier\n",
        "from sklearn.ensemble import BaggingClassifier\n",
        "from sklearn.linear_model import PassiveAggressiveClassifier\n",
        "from sklearn.linear_model import RidgeClassifier\n",
        "\n",
        "iris = load_iris()\n",
        "X, y = iris.data, iris.target\n",
        "X_train, X_test, y_train, y_test = train_test_split(X, y, test_size=0.2, random_state=42)\n",
        "\n",
        "def evaluate_classification_models(X, y):\n",
        "    models = {\n",
        "        \"SVM (без ядра)\": SVC(kernel='linear'),\n",
        "        \"SVM (линейное ядро)\": SVC(kernel='linear'),\n",
        "        \"SVM (гауссовское ядро)\": SVC(kernel='rbf'),\n",
        "        \"SVM (полиномиальное ядро)\": SVC(kernel='poly'),\n",
        "        \"K-ближайших соседей\": KNeighborsClassifier(),\n",
        "        \"Многослойный перцептрон\": MLPClassifier(),\n",
        "        \"Дерево решений\": DecisionTreeClassifier(),\n",
        "        \"Наивный байесовский классификатор\": GaussianNB(),\n",
        "        \"Пассивно-агрессивный классификатор\": PassiveAggressiveClassifier(),\n",
        "        \"Гребневый классификатор\": RidgeClassifier(),\n",
        "        \"Случайный лес\": RandomForestClassifier(),\n",
        "        \"Беггинг\": BaggingClassifier(),\n",
        "    }\n",
        "\n",
        "    results = {}\n",
        "    for name, model in models.items():\n",
        "        model.fit(X_train, y_train)\n",
        "        y_pred = model.predict(X_test)\n",
        "        accuracy = accuracy_score(y_test, y_pred)\n",
        "        results[name] = accuracy\n",
        "\n",
        "    return results\n",
        "results = evaluate_classification_models(X, y)\n",
        "for model, accuracy in results.items():\n",
        "    print(f\"Модель: {model}, Точность: {accuracy:.2f}\")\n"
      ]
    }
  ],
  "metadata": {
    "colab": {
      "provenance": []
    },
    "kernelspec": {
      "display_name": "Python 3",
      "name": "python3"
    },
    "language_info": {
      "name": "python"
    }
  },
  "nbformat": 4,
  "nbformat_minor": 0
}
